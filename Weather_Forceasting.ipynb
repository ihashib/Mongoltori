{
  "nbformat": 4,
  "nbformat_minor": 0,
  "metadata": {
    "colab": {
      "provenance": []
    },
    "kernelspec": {
      "name": "python3",
      "display_name": "Python 3"
    },
    "language_info": {
      "name": "python"
    }
  },
  "cells": [
    {
      "cell_type": "code",
      "execution_count": null,
      "metadata": {
        "colab": {
          "base_uri": "https://localhost:8080/"
        },
        "id": "eFQ9gIyXodYQ",
        "outputId": "0c114c29-0466-4a60-ff43-227207ef97bc"
      },
      "outputs": [
        {
          "output_type": "stream",
          "name": "stdout",
          "text": [
            "2.8.0\n",
            "Python 3.7.12\n"
          ]
        }
      ],
      "source": [
        "import tensorflow as tf\n",
        "print(tf.__version__)\n",
        "!python --version"
      ]
    },
    {
      "cell_type": "code",
      "source": [
        "from google.colab import drive\n",
        "drive.mount('/content/gdrive')"
      ],
      "metadata": {
        "colab": {
          "base_uri": "https://localhost:8080/"
        },
        "id": "4blT7_uC0hh1",
        "outputId": "a9cbe120-3e33-4f30-b424-bd9efb734ded"
      },
      "execution_count": null,
      "outputs": [
        {
          "output_type": "stream",
          "name": "stdout",
          "text": [
            "Mounted at /content/gdrive\n"
          ]
        }
      ]
    },
    {
      "cell_type": "code",
      "source": [
        "cd /content/gdrive/MyDrive/Weather Forecast Dataset"
      ],
      "metadata": {
        "colab": {
          "base_uri": "https://localhost:8080/"
        },
        "id": "VdwEgTjO0n2d",
        "outputId": "a5102495-af61-4116-b60f-77da1d9c9ac6"
      },
      "execution_count": null,
      "outputs": [
        {
          "output_type": "stream",
          "name": "stdout",
          "text": [
            "/content/gdrive/MyDrive/Weather Forecast Dataset\n"
          ]
        }
      ]
    },
    {
      "cell_type": "code",
      "source": [
        "import numpy as np \n",
        "import pandas as pd \n",
        "\n",
        "import os\n",
        "for dirname, _, filenames in os.walk('/content/gdrive/MyDrive/Weather Forecast Dataset'):\n",
        "    for filename in filenames:\n",
        "        print(os.path.join(dirname, filename))"
      ],
      "metadata": {
        "colab": {
          "base_uri": "https://localhost:8080/"
        },
        "id": "k4QKEH0g08pe",
        "outputId": "a2be6618-bbd7-493a-dc0b-43a93c859919"
      },
      "execution_count": null,
      "outputs": [
        {
          "output_type": "stream",
          "name": "stdout",
          "text": [
            "/content/gdrive/MyDrive/Weather Forecast Dataset/REMS_Mars_Dataset.csv\n",
            "/content/gdrive/MyDrive/Weather Forecast Dataset/mars-weather.csv\n"
          ]
        }
      ]
    },
    {
      "cell_type": "code",
      "source": [
        "data=pd.read_csv('/content/gdrive/MyDrive/Weather Forecast Dataset/mars-weather.csv')\n",
        "\n",
        "data.sample(5)"
      ],
      "metadata": {
        "colab": {
          "base_uri": "https://localhost:8080/",
          "height": 206
        },
        "id": "_XI7Xdev1ITl",
        "outputId": "3ac01866-d60d-48da-ff4e-b2826962cf4b"
      },
      "execution_count": null,
      "outputs": [
        {
          "output_type": "execute_result",
          "data": {
            "text/html": [
              "\n",
              "  <div id=\"df-e6ed952c-868d-4cb4-9617-f901a2507af8\">\n",
              "    <div class=\"colab-df-container\">\n",
              "      <div>\n",
              "<style scoped>\n",
              "    .dataframe tbody tr th:only-of-type {\n",
              "        vertical-align: middle;\n",
              "    }\n",
              "\n",
              "    .dataframe tbody tr th {\n",
              "        vertical-align: top;\n",
              "    }\n",
              "\n",
              "    .dataframe thead th {\n",
              "        text-align: right;\n",
              "    }\n",
              "</style>\n",
              "<table border=\"1\" class=\"dataframe\">\n",
              "  <thead>\n",
              "    <tr style=\"text-align: right;\">\n",
              "      <th></th>\n",
              "      <th>id</th>\n",
              "      <th>terrestrial_date</th>\n",
              "      <th>sol</th>\n",
              "      <th>ls</th>\n",
              "      <th>month</th>\n",
              "      <th>min_temp</th>\n",
              "      <th>max_temp</th>\n",
              "      <th>pressure</th>\n",
              "      <th>wind_speed</th>\n",
              "      <th>atmo_opacity</th>\n",
              "    </tr>\n",
              "  </thead>\n",
              "  <tbody>\n",
              "    <tr>\n",
              "      <th>813</th>\n",
              "      <td>1082</td>\n",
              "      <td>2015-11-01</td>\n",
              "      <td>1151</td>\n",
              "      <td>62</td>\n",
              "      <td>Month 3</td>\n",
              "      <td>-82.0</td>\n",
              "      <td>-31.0</td>\n",
              "      <td>901.0</td>\n",
              "      <td>NaN</td>\n",
              "      <td>Sunny</td>\n",
              "    </tr>\n",
              "    <tr>\n",
              "      <th>109</th>\n",
              "      <td>1786</td>\n",
              "      <td>2017-11-07</td>\n",
              "      <td>1868</td>\n",
              "      <td>84</td>\n",
              "      <td>Month 3</td>\n",
              "      <td>-80.0</td>\n",
              "      <td>-24.0</td>\n",
              "      <td>848.0</td>\n",
              "      <td>NaN</td>\n",
              "      <td>Sunny</td>\n",
              "    </tr>\n",
              "    <tr>\n",
              "      <th>1436</th>\n",
              "      <td>449</td>\n",
              "      <td>2014-01-18</td>\n",
              "      <td>516</td>\n",
              "      <td>77</td>\n",
              "      <td>Month 3</td>\n",
              "      <td>-86.0</td>\n",
              "      <td>-25.0</td>\n",
              "      <td>888.0</td>\n",
              "      <td>NaN</td>\n",
              "      <td>Sunny</td>\n",
              "    </tr>\n",
              "    <tr>\n",
              "      <th>1176</th>\n",
              "      <td>718</td>\n",
              "      <td>2014-10-12</td>\n",
              "      <td>776</td>\n",
              "      <td>212</td>\n",
              "      <td>Month 8</td>\n",
              "      <td>-72.0</td>\n",
              "      <td>5.0</td>\n",
              "      <td>841.0</td>\n",
              "      <td>NaN</td>\n",
              "      <td>Sunny</td>\n",
              "    </tr>\n",
              "    <tr>\n",
              "      <th>1835</th>\n",
              "      <td>208</td>\n",
              "      <td>2012-10-12</td>\n",
              "      <td>66</td>\n",
              "      <td>187</td>\n",
              "      <td>Month 7</td>\n",
              "      <td>-73.0</td>\n",
              "      <td>-2.0</td>\n",
              "      <td>778.0</td>\n",
              "      <td>NaN</td>\n",
              "      <td>Sunny</td>\n",
              "    </tr>\n",
              "  </tbody>\n",
              "</table>\n",
              "</div>\n",
              "      <button class=\"colab-df-convert\" onclick=\"convertToInteractive('df-e6ed952c-868d-4cb4-9617-f901a2507af8')\"\n",
              "              title=\"Convert this dataframe to an interactive table.\"\n",
              "              style=\"display:none;\">\n",
              "        \n",
              "  <svg xmlns=\"http://www.w3.org/2000/svg\" height=\"24px\"viewBox=\"0 0 24 24\"\n",
              "       width=\"24px\">\n",
              "    <path d=\"M0 0h24v24H0V0z\" fill=\"none\"/>\n",
              "    <path d=\"M18.56 5.44l.94 2.06.94-2.06 2.06-.94-2.06-.94-.94-2.06-.94 2.06-2.06.94zm-11 1L8.5 8.5l.94-2.06 2.06-.94-2.06-.94L8.5 2.5l-.94 2.06-2.06.94zm10 10l.94 2.06.94-2.06 2.06-.94-2.06-.94-.94-2.06-.94 2.06-2.06.94z\"/><path d=\"M17.41 7.96l-1.37-1.37c-.4-.4-.92-.59-1.43-.59-.52 0-1.04.2-1.43.59L10.3 9.45l-7.72 7.72c-.78.78-.78 2.05 0 2.83L4 21.41c.39.39.9.59 1.41.59.51 0 1.02-.2 1.41-.59l7.78-7.78 2.81-2.81c.8-.78.8-2.07 0-2.86zM5.41 20L4 18.59l7.72-7.72 1.47 1.35L5.41 20z\"/>\n",
              "  </svg>\n",
              "      </button>\n",
              "      \n",
              "  <style>\n",
              "    .colab-df-container {\n",
              "      display:flex;\n",
              "      flex-wrap:wrap;\n",
              "      gap: 12px;\n",
              "    }\n",
              "\n",
              "    .colab-df-convert {\n",
              "      background-color: #E8F0FE;\n",
              "      border: none;\n",
              "      border-radius: 50%;\n",
              "      cursor: pointer;\n",
              "      display: none;\n",
              "      fill: #1967D2;\n",
              "      height: 32px;\n",
              "      padding: 0 0 0 0;\n",
              "      width: 32px;\n",
              "    }\n",
              "\n",
              "    .colab-df-convert:hover {\n",
              "      background-color: #E2EBFA;\n",
              "      box-shadow: 0px 1px 2px rgba(60, 64, 67, 0.3), 0px 1px 3px 1px rgba(60, 64, 67, 0.15);\n",
              "      fill: #174EA6;\n",
              "    }\n",
              "\n",
              "    [theme=dark] .colab-df-convert {\n",
              "      background-color: #3B4455;\n",
              "      fill: #D2E3FC;\n",
              "    }\n",
              "\n",
              "    [theme=dark] .colab-df-convert:hover {\n",
              "      background-color: #434B5C;\n",
              "      box-shadow: 0px 1px 3px 1px rgba(0, 0, 0, 0.15);\n",
              "      filter: drop-shadow(0px 1px 2px rgba(0, 0, 0, 0.3));\n",
              "      fill: #FFFFFF;\n",
              "    }\n",
              "  </style>\n",
              "\n",
              "      <script>\n",
              "        const buttonEl =\n",
              "          document.querySelector('#df-e6ed952c-868d-4cb4-9617-f901a2507af8 button.colab-df-convert');\n",
              "        buttonEl.style.display =\n",
              "          google.colab.kernel.accessAllowed ? 'block' : 'none';\n",
              "\n",
              "        async function convertToInteractive(key) {\n",
              "          const element = document.querySelector('#df-e6ed952c-868d-4cb4-9617-f901a2507af8');\n",
              "          const dataTable =\n",
              "            await google.colab.kernel.invokeFunction('convertToInteractive',\n",
              "                                                     [key], {});\n",
              "          if (!dataTable) return;\n",
              "\n",
              "          const docLinkHtml = 'Like what you see? Visit the ' +\n",
              "            '<a target=\"_blank\" href=https://colab.research.google.com/notebooks/data_table.ipynb>data table notebook</a>'\n",
              "            + ' to learn more about interactive tables.';\n",
              "          element.innerHTML = '';\n",
              "          dataTable['output_type'] = 'display_data';\n",
              "          await google.colab.output.renderOutput(dataTable, element);\n",
              "          const docLink = document.createElement('div');\n",
              "          docLink.innerHTML = docLinkHtml;\n",
              "          element.appendChild(docLink);\n",
              "        }\n",
              "      </script>\n",
              "    </div>\n",
              "  </div>\n",
              "  "
            ],
            "text/plain": [
              "        id terrestrial_date   sol  ...  pressure wind_speed  atmo_opacity\n",
              "813   1082       2015-11-01  1151  ...     901.0        NaN         Sunny\n",
              "109   1786       2017-11-07  1868  ...     848.0        NaN         Sunny\n",
              "1436   449       2014-01-18   516  ...     888.0        NaN         Sunny\n",
              "1176   718       2014-10-12   776  ...     841.0        NaN         Sunny\n",
              "1835   208       2012-10-12    66  ...     778.0        NaN         Sunny\n",
              "\n",
              "[5 rows x 10 columns]"
            ]
          },
          "metadata": {},
          "execution_count": 8
        }
      ]
    },
    {
      "cell_type": "code",
      "source": [
        "data['terrestrial_date']=pd.to_datetime(data['terrestrial_date'])\n",
        "\n",
        "data.terrestrial_date.sample(5)"
      ],
      "metadata": {
        "colab": {
          "base_uri": "https://localhost:8080/"
        },
        "id": "Q0HbeSIp1R2m",
        "outputId": "627e9473-be59-49b1-e92f-71bb6c4ce884"
      },
      "execution_count": null,
      "outputs": [
        {
          "output_type": "execute_result",
          "data": {
            "text/plain": [
              "1549   2013-09-04\n",
              "641    2016-04-28\n",
              "955    2015-06-07\n",
              "1779   2012-12-09\n",
              "584    2016-06-26\n",
              "Name: terrestrial_date, dtype: datetime64[ns]"
            ]
          },
          "metadata": {},
          "execution_count": 9
        }
      ]
    },
    {
      "cell_type": "code",
      "source": [
        "data.iloc[:,6].isna().sum()"
      ],
      "metadata": {
        "colab": {
          "base_uri": "https://localhost:8080/"
        },
        "id": "9k9elzfD10we",
        "outputId": "50e3a4fc-8428-41d9-d1a4-27093c781b2b"
      },
      "execution_count": null,
      "outputs": [
        {
          "output_type": "execute_result",
          "data": {
            "text/plain": [
              "27"
            ]
          },
          "metadata": {},
          "execution_count": 10
        }
      ]
    },
    {
      "cell_type": "code",
      "source": [
        "import datetime as dt\n",
        "data['month']=pd.to_datetime(data.terrestrial_date).dt.to_period('M')\n",
        "\n",
        "data.month.value_counts()"
      ],
      "metadata": {
        "colab": {
          "base_uri": "https://localhost:8080/"
        },
        "id": "4YIJRA-m2EJ0",
        "outputId": "be84ac1e-e2d1-4264-e405-62e97e019abe"
      },
      "execution_count": null,
      "outputs": [
        {
          "output_type": "execute_result",
          "data": {
            "text/plain": [
              "2017-12    31\n",
              "2013-01    31\n",
              "2016-08    31\n",
              "2014-05    31\n",
              "2014-10    31\n",
              "           ..\n",
              "2015-01    23\n",
              "2016-07    21\n",
              "2012-08    18\n",
              "2013-11    17\n",
              "2013-03    11\n",
              "Freq: M, Name: month, Length: 67, dtype: int64"
            ]
          },
          "metadata": {},
          "execution_count": 11
        }
      ]
    },
    {
      "cell_type": "code",
      "source": [
        "aa=data.iloc[:,6].name\n",
        "ac=data.groupby(by='month')[aa].mean()\n",
        "ab=data['max_temp'].isna()\n",
        "data.loc[ab,['max_temp']]=data.loc[ab,'month'].apply(lambda x:ac[x])\n",
        "data['max_temp'].isna().sum()"
      ],
      "metadata": {
        "colab": {
          "base_uri": "https://localhost:8080/"
        },
        "id": "s_UgqHjR2Mwd",
        "outputId": "29668855-2c25-414f-bd9f-b38302a782c0"
      },
      "execution_count": null,
      "outputs": [
        {
          "output_type": "execute_result",
          "data": {
            "text/plain": [
              "0"
            ]
          },
          "metadata": {},
          "execution_count": 12
        }
      ]
    },
    {
      "cell_type": "code",
      "source": [
        "new_df=pd.DataFrame(list(data['max_temp']),index=data.terrestrial_date,columns=['Maxtemperature'])\n"
      ],
      "metadata": {
        "id": "eCzQgOpK2Uad"
      },
      "execution_count": null,
      "outputs": []
    },
    {
      "cell_type": "code",
      "source": [
        "new_df=new_df.resample('D').mean()"
      ],
      "metadata": {
        "id": "FkdzPsxQ2a7l"
      },
      "execution_count": null,
      "outputs": []
    },
    {
      "cell_type": "code",
      "source": [
        "from keras.layers import Bidirectional,LSTM,Dense,Flatten,Conv1D,MaxPooling1D,Dropout,RepeatVector\n",
        "from keras.models import Sequential\n",
        "from keras.callbacks import EarlyStopping,ReduceLROnPlateau\n",
        "\n",
        "early_stop=EarlyStopping(monitor='loss',patience=5)"
      ],
      "metadata": {
        "id": "trppSxrL2jxk"
      },
      "execution_count": null,
      "outputs": []
    },
    {
      "cell_type": "code",
      "source": [
        "model=Sequential([Conv1D(100,kernel_size=3,input_shape=(30,1),activation='relu'),\n",
        "                  Conv1D(100,kernel_size=3),\n",
        "                  Conv1D(100,kernel_size=3),\n",
        "                  MaxPooling1D(2),\n",
        "                 Flatten(),\n",
        "                  RepeatVector(30),\n",
        "                 LSTM(128,activation='relu',return_sequences=True),\n",
        "                 LSTM(128,activation='relu',return_sequences=True),\n",
        "                  Bidirectional(LSTM(64,activation='relu')),\n",
        "                 Dense(128,activation='relu'),\n",
        "                 Dense(1)])\n",
        "\n",
        "model.compile(optimizer='adam',loss='mse',metrics=['accuracy'])"
      ],
      "metadata": {
        "id": "E3QwugIA219M"
      },
      "execution_count": null,
      "outputs": []
    },
    {
      "cell_type": "code",
      "source": [
        "new_df1=pd.DataFrame(list(data['max_temp']), index=data['terrestrial_date'], columns=['temp'])"
      ],
      "metadata": {
        "id": "WK4YrRvg24qE"
      },
      "execution_count": null,
      "outputs": []
    },
    {
      "cell_type": "code",
      "source": [
        "new_df1=new_df1.resample('D').mean()\n",
        "new_df1.temp.isna().sum()"
      ],
      "metadata": {
        "colab": {
          "base_uri": "https://localhost:8080/"
        },
        "id": "pGli0nY427ZL",
        "outputId": "e2ab45bb-b61c-4bd2-aeb6-a694700d9df6"
      },
      "execution_count": null,
      "outputs": [
        {
          "output_type": "execute_result",
          "data": {
            "text/plain": [
              "137"
            ]
          },
          "metadata": {},
          "execution_count": 20
        }
      ]
    },
    {
      "cell_type": "code",
      "source": [
        "new_df1.fillna(data['max_temp'].mean(),inplace=True)\n",
        "new_df1.temp.isna().sum()"
      ],
      "metadata": {
        "colab": {
          "base_uri": "https://localhost:8080/"
        },
        "id": "CWkHJlrj3DwM",
        "outputId": "2f4b4b80-6338-4dbe-f2ed-6e3fb588a191"
      },
      "execution_count": null,
      "outputs": [
        {
          "output_type": "execute_result",
          "data": {
            "text/plain": [
              "0"
            ]
          },
          "metadata": {},
          "execution_count": 21
        }
      ]
    },
    {
      "cell_type": "code",
      "source": [
        "from sklearn.preprocessing import MinMaxScaler\n",
        "\n",
        "scaler=MinMaxScaler(feature_range=(-1,1))"
      ],
      "metadata": {
        "id": "Lo88yz1t3GaU"
      },
      "execution_count": null,
      "outputs": []
    },
    {
      "cell_type": "code",
      "source": [
        "scaled_data=scaler.fit_transform(new_df1)\n",
        "scaled_data[:5]"
      ],
      "metadata": {
        "colab": {
          "base_uri": "https://localhost:8080/"
        },
        "id": "CCKKrerD3MU8",
        "outputId": "bcff9537-b79e-488f-8786-9a6c6b3dcbca"
      },
      "execution_count": null,
      "outputs": [
        {
          "output_type": "execute_result",
          "data": {
            "text/plain": [
              "array([[ 0.06020067],\n",
              "       [-0.02116299],\n",
              "       [-0.02116299],\n",
              "       [-0.02116299],\n",
              "       [-0.02116299]])"
            ]
          },
          "metadata": {},
          "execution_count": 23
        }
      ]
    },
    {
      "cell_type": "code",
      "source": [
        "steps=30\n",
        "inp1=[]\n",
        "out1=[]\n",
        "\n",
        "for i in range(len(scaled_data)-steps):\n",
        "    inp1.append(scaled_data[i:i+steps])\n",
        "    out1.append(scaled_data[i+steps])"
      ],
      "metadata": {
        "id": "pm1XsiVL3OYc"
      },
      "execution_count": null,
      "outputs": []
    },
    {
      "cell_type": "code",
      "source": [
        "inp1=np.asanyarray(inp1)\n",
        "out1=np.asanyarray(out1)\n",
        "x_train1=inp1[:500,:,:]\n",
        "x_test1=inp1[500:,:,:]\n",
        "y_train1=out1[:500]\n",
        "y_test1=out1[500:]"
      ],
      "metadata": {
        "id": "NRRXMdEb3S2k"
      },
      "execution_count": null,
      "outputs": []
    },
    {
      "cell_type": "code",
      "source": [
        "gpus = tf.config.experimental.list_physical_devices('GPU')\n",
        "if gpus:\n",
        "  try:\n",
        "    for gpu in gpus:\n",
        "      tf.config.experimental.set_memory_growth(gpu, True)\n",
        "  except RuntimeError as e:\n",
        "    print(e)"
      ],
      "metadata": {
        "id": "jx7qwFGR3UnE"
      },
      "execution_count": null,
      "outputs": []
    },
    {
      "cell_type": "code",
      "source": [
        "model.fit(x_train1,y_train1,epochs=25)"
      ],
      "metadata": {
        "colab": {
          "base_uri": "https://localhost:8080/"
        },
        "id": "8rkLB_t-3Y3s",
        "outputId": "337402a9-60d7-41a1-daf7-9b2bba198877"
      },
      "execution_count": null,
      "outputs": [
        {
          "output_type": "stream",
          "name": "stdout",
          "text": [
            "Epoch 1/25\n",
            "16/16 [==============================] - 6s 367ms/step - loss: 0.8731 - accuracy: 0.0000e+00\n",
            "Epoch 2/25\n",
            "16/16 [==============================] - 4s 248ms/step - loss: 0.5047 - accuracy: 0.0000e+00\n",
            "Epoch 3/25\n",
            "16/16 [==============================] - 4s 249ms/step - loss: 2409.6025 - accuracy: 0.0000e+00\n",
            "Epoch 4/25\n",
            "16/16 [==============================] - 4s 252ms/step - loss: 0.1252 - accuracy: 0.0000e+00\n",
            "Epoch 5/25\n",
            "16/16 [==============================] - 4s 252ms/step - loss: 0.1753 - accuracy: 0.0000e+00\n",
            "Epoch 6/25\n",
            "16/16 [==============================] - 4s 253ms/step - loss: 0.1424 - accuracy: 0.0000e+00\n",
            "Epoch 7/25\n",
            "16/16 [==============================] - 4s 250ms/step - loss: 0.0736 - accuracy: 0.0000e+00\n",
            "Epoch 8/25\n",
            "16/16 [==============================] - 4s 253ms/step - loss: 0.0425 - accuracy: 0.0000e+00\n",
            "Epoch 9/25\n",
            "16/16 [==============================] - 4s 257ms/step - loss: 0.0397 - accuracy: 0.0000e+00\n",
            "Epoch 10/25\n",
            "16/16 [==============================] - 4s 252ms/step - loss: 0.0378 - accuracy: 0.0000e+00\n",
            "Epoch 11/25\n",
            "16/16 [==============================] - 4s 250ms/step - loss: 0.0373 - accuracy: 0.0000e+00\n",
            "Epoch 12/25\n",
            "16/16 [==============================] - 6s 351ms/step - loss: 0.0346 - accuracy: 0.0000e+00\n",
            "Epoch 13/25\n",
            "16/16 [==============================] - 4s 253ms/step - loss: 0.0342 - accuracy: 0.0000e+00\n",
            "Epoch 14/25\n",
            "16/16 [==============================] - 4s 252ms/step - loss: 0.0337 - accuracy: 0.0000e+00\n",
            "Epoch 15/25\n",
            "16/16 [==============================] - 4s 254ms/step - loss: 0.0329 - accuracy: 0.0000e+00\n",
            "Epoch 16/25\n",
            "16/16 [==============================] - 4s 256ms/step - loss: 0.0318 - accuracy: 0.0000e+00\n",
            "Epoch 17/25\n",
            "16/16 [==============================] - 4s 253ms/step - loss: 0.0311 - accuracy: 0.0000e+00\n",
            "Epoch 18/25\n",
            "16/16 [==============================] - 4s 252ms/step - loss: 0.0303 - accuracy: 0.0000e+00\n",
            "Epoch 19/25\n",
            "16/16 [==============================] - 4s 256ms/step - loss: 0.0303 - accuracy: 0.0000e+00\n",
            "Epoch 20/25\n",
            "16/16 [==============================] - 4s 257ms/step - loss: 0.0299 - accuracy: 0.0000e+00\n",
            "Epoch 21/25\n",
            "16/16 [==============================] - 4s 251ms/step - loss: 0.0290 - accuracy: 0.0000e+00\n",
            "Epoch 22/25\n",
            "16/16 [==============================] - 4s 247ms/step - loss: 0.0284 - accuracy: 0.0000e+00\n",
            "Epoch 23/25\n",
            "16/16 [==============================] - 4s 252ms/step - loss: 0.0290 - accuracy: 0.0000e+00\n",
            "Epoch 24/25\n",
            "16/16 [==============================] - 4s 250ms/step - loss: 0.0280 - accuracy: 0.0000e+00\n",
            "Epoch 25/25\n",
            "16/16 [==============================] - 4s 252ms/step - loss: 0.0283 - accuracy: 0.0000e+00\n"
          ]
        },
        {
          "output_type": "execute_result",
          "data": {
            "text/plain": [
              "<keras.callbacks.History at 0x7f071d210710>"
            ]
          },
          "metadata": {},
          "execution_count": 28
        }
      ]
    },
    {
      "cell_type": "code",
      "source": [
        "predicted=model.predict(x_test1)"
      ],
      "metadata": {
        "id": "3dkt6Xm93dv0"
      },
      "execution_count": null,
      "outputs": []
    },
    {
      "cell_type": "code",
      "source": [
        "predicted1=scaler.inverse_transform(predicted)"
      ],
      "metadata": {
        "id": "BnDToBvg56aU"
      },
      "execution_count": null,
      "outputs": []
    },
    {
      "cell_type": "code",
      "source": [
        "y_test2=scaler.inverse_transform(y_test1)"
      ],
      "metadata": {
        "id": "4Qf9mP8J58Us"
      },
      "execution_count": null,
      "outputs": []
    },
    {
      "cell_type": "code",
      "source": [
        "import matplotlib.pyplot as plt\n",
        "plt.figure(figsize=(20,5))\n",
        "plt.plot(predicted1,'r',label='predicted')\n",
        "plt.plot(y_test2,'g',label='actual')\n",
        "plt.legend()\n",
        "plt.show()"
      ],
      "metadata": {
        "colab": {
          "base_uri": "https://localhost:8080/",
          "height": 320
        },
        "id": "wejpUv0R59b8",
        "outputId": "a6512cab-55b4-4f0a-b43d-57f8537618ee"
      },
      "execution_count": null,
      "outputs": [
        {
          "output_type": "display_data",
          "data": {
            "image/png": "[encoded data removed]",
            "text/plain": [
              "<Figure size 1440x360 with 1 Axes>"
            ]
          },
          "metadata": {
            "needs_background": "light"
          }
        }
      ]
    },
    {
      "cell_type": "code",
      "source": [
        "from tensorflow.keras.models import load_model\n",
        "\n",
        "model.save(\"/content/gdrive/MyDrive/Weather Forecast Dataset/LSTM_model.h5\")"
      ],
      "metadata": {
        "id": "0ds5efd15-y0"
      },
      "execution_count": null,
      "outputs": []
    },
    {
      "cell_type": "code",
      "source": [],
      "metadata": {
        "id": "rj8a5w1t6ZFb"
      },
      "execution_count": null,
      "outputs": []
    }
  ]
}